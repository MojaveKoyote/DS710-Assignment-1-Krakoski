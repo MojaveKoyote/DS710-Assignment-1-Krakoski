{
 "cells": [
  {
   "cell_type": "code",
   "execution_count": 1,
   "metadata": {},
   "outputs": [
    {
     "name": "stdout",
     "output_type": "stream",
     "text": [
      "hello world\n"
     ]
    }
   ],
   "source": [
    "#This cell is a code cell.  Pressing shift-enter or using the \"Run Cell\" button \n",
    "#will evaluate the code in this cell and move to the next one.  \n",
    "#There are also hotkeys to evaluate and stay at the same cell -- control-enter.\n",
    "#The \"Run Cell\" button looks like a little black triangle.\n",
    "# 🎯 Run the code in this cell.\n",
    "\n",
    "print(\"hello world\")\n"
   ]
  },
  {
   "cell_type": "code",
   "execution_count": 2,
   "metadata": {},
   "outputs": [
    {
     "name": "stdout",
     "output_type": "stream",
     "text": [
      "4\n"
     ]
    }
   ],
   "source": [
    "\n",
    "#create a variable named a, and store the value 3+1 in it\n",
    "a = 3+1\n",
    "\n",
    "#display a\n",
    "print(a)"
   ]
  },
  {
   "cell_type": "code",
   "execution_count": 3,
   "metadata": {},
   "outputs": [
    {
     "name": "stdout",
     "output_type": "stream",
     "text": [
      "Kyle Krakoski\n"
     ]
    }
   ],
   "source": [
    "#Note that the usual Python convention is to separate words in variable names using underscores\n",
    "#The document known as PEP 8 is the official Python style guide:\n",
    "#   visit it at https://www.python.org/dev/peps/pep-0008/\n",
    "#Change the code below to store *your* first and last name.\n",
    "\n",
    "first_name = \"Kyle\" # you must change this line\n",
    "last_name = \"Krakoski\"\n",
    "print(first_name,last_name)\n"
   ]
  },
  {
   "cell_type": "code",
   "execution_count": 4,
   "metadata": {},
   "outputs": [
    {
     "name": "stdout",
     "output_type": "stream",
     "text": [
      "Kyle\tKrakoski\n",
      "Kyle Krakoski\n"
     ]
    }
   ],
   "source": [
    "#We can use the tab or \"\\t\" and newline or \"\\n\" characters to format our output.\n",
    "#Adjust the output below to format the text so that your first and last name appear in the appropriate column.\n",
    "\n",
    "print(\"Kyle\\tKrakoski\\n{} {}\".format(first_name,last_name))"
   ]
  },
  {
   "cell_type": "markdown",
   "metadata": {},
   "source": [
    "The previous code uses two methods to display my full  name.  The first prints my name by adding in my first name and last name as text directly entered, with the \"/t\" command used to add a tab space between the names.  The second method creates a new line with the \"\\n\" command, then uses the \".format\" command to call the variables \"first_name\" and \"last_name\" and inserts each variable into its corresponding curly brace \"{}\".  A space was added between each \"{}\" to ensure that there would be a space added between the first name and last name."
   ]
  },
  {
   "cell_type": "code",
   "execution_count": 5,
   "metadata": {},
   "outputs": [
    {
     "name": "stdout",
     "output_type": "stream",
     "text": [
      "Kyle Krakoski\n"
     ]
    }
   ],
   "source": [
    "#We can also combine strings using the + operator, but this is not preferred because it gets cumbersome quickly.\n",
    "#Adjust the output below so that it includes a space between your first and last name.\n",
    "print(first_name+ \" \"+ last_name)"
   ]
  },
  {
   "cell_type": "code",
   "execution_count": 6,
   "metadata": {},
   "outputs": [
    {
     "name": "stdout",
     "output_type": "stream",
     "text": [
      "KYLE\n"
     ]
    }
   ],
   "source": [
    "#Find a function that will convert your given name to all uppercase letters.\n",
    "# 🎯 put a period after first_name, and then push tab to explore.\n",
    "# Then evaluate (run) your function so we can see the results.\n",
    "print(first_name.upper())"
   ]
  },
  {
   "cell_type": "code",
   "execution_count": 7,
   "metadata": {},
   "outputs": [],
   "source": [
    "def foo():\n",
    "    return 42"
   ]
  },
  {
   "cell_type": "code",
   "execution_count": 8,
   "metadata": {},
   "outputs": [
    {
     "data": {
      "text/plain": [
       "42"
      ]
     },
     "execution_count": 8,
     "metadata": {},
     "output_type": "execute_result"
    }
   ],
   "source": [
    "foo()"
   ]
  },
  {
   "cell_type": "code",
   "execution_count": 9,
   "metadata": {},
   "outputs": [],
   "source": [
    "v = foo()"
   ]
  },
  {
   "cell_type": "code",
   "execution_count": 10,
   "metadata": {},
   "outputs": [],
   "source": [
    "import random\n",
    "\n",
    "def make_message(first, last):\n",
    "    if first in [\"Given\",\"\"] or last in [\"Surname\",\"\"]:\n",
    "        raise ValueError(\"Unchanged or empty first or last name\")\n",
    "    return \"Hi, {} {}, it's nice to meet you!  I'm Robot #{}\".format(first,last,random.randint(0,1000000))"
   ]
  },
  {
   "cell_type": "code",
   "execution_count": 11,
   "metadata": {},
   "outputs": [],
   "source": [
    "var = make_message(first_name, last_name)"
   ]
  },
  {
   "cell_type": "code",
   "execution_count": 12,
   "metadata": {},
   "outputs": [
    {
     "name": "stdout",
     "output_type": "stream",
     "text": [
      "Hi, Kyle Krakoski, it's nice to meet you!  I'm Robot #1536\n"
     ]
    }
   ],
   "source": [
    "print(var)"
   ]
  },
  {
   "cell_type": "markdown",
   "metadata": {},
   "source": [
    "## 1.) Name\n",
    ">Kyle J. Krakoski\n",
    "\n",
    "## 2. ) Data Science- Why?\n",
    ">After being an officer in Air Force Space Operations for 5 years, and a contractor at Raytheon for 1, I became unsatisfied with my current career path.  Looking back on my undergrad Applied Mathematics courses, I realized that I enjoyed my statistics and data analysis courses the most.  After doing some reasearch, Data Science stood out to me.  Not only did it  fit my interests, but with how fast the need for data scientists is growing in nearly every industry, as a career choice it made the most sense. Additonally, I believe data science could be my path into the environmental industry, my dream career field. As an avid nature and wildlife enthusiast, I'd like to contribute to the flourishing of the beautiful Colorado outdoors by working with environmental data of my city or state government.\n",
    "\n",
    "## 3.) Programming Experience\n",
    ">Most of my programming experience comes from my undergrad courses 8 years ago.  I had plenty of experience with *R* and *Python*.  However, given how long it has been, I do not remember *R* very well, and I imagine I might have to put in extra effort to catch up again.  More recently, though, I've been working with a friend the last few months to program a visual novel game in *Python*, so I believe my *Python* skills are up to par for this course.  Additionally, I've self-taught myself the basics of *Oracle SQL*.\n",
    "\n",
    "## 4.)  Employment Connections\n",
    ">I am currently unemployed, and planning to be a full-time master's student for the foreseeable futre. As stated earlier I worked with satellites in the Air Force for five years and then with Raytheon for one. Unfortunately, none of my past jobs used programming or were related to Data Science, so this will be a new experience for me.\n",
    "\n",
    "## 5.) Statistics Experience\n",
    ">My focus for my Applied Mathematics major was Statistics, so I have some experience with some advanced statistics courses.  Again, though, it's been 8 years so I imagine I'll have to do some self study to catch up again.  Also, I have never used statistics for my jobs. \n",
    "\n",
    "## 6.) Additonal *R* and *Python* Experience\n",
    ">I have used advanced *Python* commands programming my visual novel game over the last few months, so I feel comfortable with the language.  I have no additionl *R* experience.\n",
    "\n",
    "## 7.) What to Learn?\n",
    ">I hope to fine tune my *Python* skills, and learn methods to become a more efficient *Python* programmer.  I have also never used GitHub, so I hope to learn how to navigate it and use it to my benefit for future projects.  Finally, I hope to relearn *R* and become as proficient in it as I was during my undergrad courses.\n",
    "\n",
    "## 8.) What Else?\n",
    ">As you've probably guess I'm pretty new to the whole programming culture, so I'll probably be asking a bunch of questions about jargon and submission processes.  I'm excited to learn though, so I'm confident I'l be able to pick it up and ace this course!\n",
    ">\n",
    ">(Additionally, if you know any data scientists that work in an environmental field, I would love to talk with them about their experience if possible!)"
   ]
  },
  {
   "cell_type": "code",
   "execution_count": null,
   "metadata": {},
   "outputs": [],
   "source": []
  }
 ],
 "metadata": {
  "kernelspec": {
   "display_name": "Python 3",
   "language": "python",
   "name": "python3"
  },
  "language_info": {
   "codemirror_mode": {
    "name": "ipython",
    "version": 3
   },
   "file_extension": ".py",
   "mimetype": "text/x-python",
   "name": "python",
   "nbconvert_exporter": "python",
   "pygments_lexer": "ipython3",
   "version": "3.8.3"
  }
 },
 "nbformat": 4,
 "nbformat_minor": 4
}
